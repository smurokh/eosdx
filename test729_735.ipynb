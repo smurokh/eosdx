{
 "cells": [
  {
   "cell_type": "code",
   "execution_count": null,
   "metadata": {},
   "outputs": [],
   "source": [
    "import seaborn as sns\n",
    "import pandas as pd\n",
    "import matplotlib.pyplot as plt\n",
    "%matplotlib qt\n",
    "import numpy as np\n",
    "from sklearn.decomposition import PCA"
   ]
  },
  {
   "cell_type": "code",
   "execution_count": null,
   "metadata": {},
   "outputs": [],
   "source": [
    "df = pd.read_json('data.json')\n",
    "#print(df.info())\n",
    "df"
   ]
  },
  {
   "cell_type": "code",
   "execution_count": null,
   "metadata": {},
   "outputs": [],
   "source": [
    "def remove_centre_beam(xray_image):\n",
    "    threshold_value = 1000\n",
    "    primary_beam_mask = xray_image > threshold_value\n",
    "    true_indices = np.argwhere(primary_beam_mask)\n",
    "    min_row = true_indices[:, 0].min()\n",
    "    max_row = true_indices[:, 0].max()\n",
    "    min_col = true_indices[:, 1].min()\n",
    "    max_col = true_indices[:, 1].max()\n",
    "    isolated_beam = np.zeros_like(xray_image)\n",
    "    isolated_beam[min_row:max_row+1, min_col:max_col+1] = xray_image[min_row:max_row+1, min_col:max_col+1]\n",
    "    return isolated_beam"
   ]
  },
  {
   "cell_type": "code",
   "execution_count": null,
   "metadata": {},
   "outputs": [],
   "source": [
    "totals= np.zeros([256, 256]) \n",
    "number_samples=0\n",
    "\n",
    "for index,row in df.iterrows():\n",
    "    if row['calibration_measurement_id']==735:\n",
    "        xray_image = np.array(row['measurement_data'])\n",
    "        isolated_beam = remove_centre_beam(xray_image)\n",
    "        xray_image = np.fft.fft2(xray_image)\n",
    "        isolated_beam = np.fft.fft2(isolated_beam)\n",
    "        img = np.absolute(np.subtract(xray_image,isolated_beam)) ## full pic in fourier space\n",
    "        img = np.divide(img, img[0][0]) ## normalisation\n",
    "        totals = np.add(totals,img)  ## create an averaged matrix of all samples\n",
    "        number_samples+=1\n",
    "for index,row in df.iterrows():\n",
    "    if row['calibration_measurement_id']==729:\n",
    "        xray_image = np.array(row['measurement_data'])\n",
    "        isolated_beam = remove_centre_beam(xray_image)\n",
    "        xray_image = np.fft.fft2(xray_image)\n",
    "        isolated_beam = np.fft.fft2(isolated_beam)\n",
    "        img = np.absolute(np.subtract(xray_image,isolated_beam)) ## full pic in fourier space\n",
    "        img = np.divide(img, img[0][0]) ## normalisation\n",
    "        totals = np.add(totals,img)  ## create an averaged matrix of all samples\n",
    "        number_samples+=1\n",
    "totals = np.divide(totals, number_samples)"
   ]
  },
  {
   "cell_type": "code",
   "execution_count": null,
   "metadata": {},
   "outputs": [],
   "source": [
    "matrix = np.empty([number_samples, 65536])\n",
    "counter = 0\n",
    "for index,row in df.iterrows():\n",
    "    if row['calibration_measurement_id']==735:\n",
    "        xray_image = np.array(row['measurement_data'])\n",
    "        isolated_beam = remove_centre_beam(xray_image)\n",
    "        xray_image = np.fft.fft2(xray_image)\n",
    "        isolated_beam = np.fft.fft2(isolated_beam)\n",
    "        img = np.absolute(np.subtract(xray_image,isolated_beam)) ## full pic in fourier space\n",
    "        img = np.divide(img, img[0][0]) ## normalisation\n",
    "        img = np.divide(img,totals) ## divide by average - standartisation\n",
    "        img = np.ravel(img) ## flatten\n",
    "        matrix[counter] = img\n",
    "        counter+=1\n",
    "for index,row in df.iterrows():\n",
    "    if row['calibration_measurement_id']==729:\n",
    "        xray_image = np.array(row['measurement_data'])\n",
    "        isolated_beam = remove_centre_beam(xray_image)\n",
    "        xray_image = np.fft.fft2(xray_image)\n",
    "        isolated_beam = np.fft.fft2(isolated_beam)\n",
    "        img = np.absolute(np.subtract(xray_image,isolated_beam)) ## full pic in fourier space\n",
    "        img = np.divide(img, img[0][0]) ## normalisation\n",
    "        img = np.divide(img,totals) ## divide by average - standartisation\n",
    "        img = np.ravel(img) ## flatten\n",
    "        matrix[counter] = img\n",
    "        counter+=1"
   ]
  },
  {
   "cell_type": "code",
   "execution_count": null,
   "metadata": {},
   "outputs": [],
   "source": [
    "key = []\n",
    "for index,row in df.iterrows():\n",
    "    if row['calibration_measurement_id']==729:\n",
    "        key+= [row['cancer_tissue']]\n",
    "print(key)"
   ]
  },
  {
   "cell_type": "code",
   "execution_count": null,
   "metadata": {},
   "outputs": [],
   "source": [
    "pca = PCA(n_components=3)\n",
    "fitted = pca.fit(matrix)\n",
    "transformed = pca.transform(matrix)\n",
    "print(transformed)\n",
    "x = transformed[:, 0]\n",
    "y = transformed[:, 1]\n",
    "z = transformed[:, 2]\n",
    "fig = plt.figure()\n",
    "ax = fig.add_subplot(111, projection='3d')\n",
    "\n",
    "# for 735\n",
    "ax.scatter(transformed[:36, 0], transformed[:36, 1], transformed[:36, 2], c='blue', label='Cancer')\n",
    "ax.scatter(transformed[36:54, 0], transformed[36:54, 1], transformed[36:54, 2], c='red', label='Non-Cancer')\n",
    "\n",
    "# for 729\n",
    "counter = 54\n",
    "for item in key:\n",
    "    if item:\n",
    "        ax.scatter(transformed[counter, 0], transformed[counter, 1], transformed[counter, 2], c='purple', label='Cancer')\n",
    "    else:\n",
    "        ax.scatter(transformed[counter, 0], transformed[counter, 1], transformed[counter, 2], c='orange', label='Non-Cancer') \n",
    "    counter+=1\n",
    "\n",
    "\n",
    "ax.set_xlabel('pc0')\n",
    "ax.set_ylabel('pc1')\n",
    "ax.set_zlabel('pc2')\n",
    "\n",
    "plt.show()"
   ]
  }
 ],
 "metadata": {
  "kernelspec": {
   "display_name": "eosdx",
   "language": "python",
   "name": "python3"
  },
  "language_info": {
   "codemirror_mode": {
    "name": "ipython",
    "version": 3
   },
   "file_extension": ".py",
   "mimetype": "text/x-python",
   "name": "python",
   "nbconvert_exporter": "python",
   "pygments_lexer": "ipython3",
   "version": "3.11.7"
  }
 },
 "nbformat": 4,
 "nbformat_minor": 2
}
